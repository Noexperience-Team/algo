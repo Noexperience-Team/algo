{
 "cells": [
  {
   "cell_type": "code",
   "execution_count": 3,
   "metadata": {},
   "outputs": [],
   "source": [
    "import numpy as np\n",
    "import tkinter \n",
    "global n\n"
   ]
  },
  {
   "cell_type": "code",
   "execution_count": 4,
   "metadata": {},
   "outputs": [],
   "source": [
    "def remplir(T,i,j,k=1):\n",
    "   \n",
    "    \n",
    "    for l in range(0,n):\n",
    "        T[l][j]=k\n",
    "    for c in range(0,n):\n",
    "        T[i][c]=k\n",
    "    ii, jj = i+1, j+1\n",
    "    l = len(T)\n",
    "    while ii < l and jj < l:\n",
    "        T[ii][jj]=k\n",
    "        ii, jj = ii + 1, jj + 1\n",
    "    row=i\n",
    "    col=j\n",
    "    ii, jj = row+1, col-1\n",
    "    while ii < l and jj >= 0:\n",
    "        T[ii][jj]=k\n",
    "        ii, jj = ii + 1, jj - 1\n",
    "        \n",
    "        \n",
    "    row=i\n",
    "    col=j\n",
    "    ii, jj = row-1, col+1\n",
    "    while ii >= 0 and jj < l:\n",
    "        \n",
    "       \n",
    "        T[ii][jj]=k\n",
    "        ii, jj = ii - 1, jj + 1\n",
    "    \n",
    "    \n",
    "    return T\n",
    "    "
   ]
  },
  {
   "cell_type": "code",
   "execution_count": 5,
   "metadata": {},
   "outputs": [],
   "source": [
    "def place_queen(E,R,i,j,k=1):\n",
    "    \n",
    "    \n",
    "    #if safe(E,i,j):\n",
    "    remplir(E,i,j,k)\n",
    "    E[i][j]=R\n",
    "   \n",
    "    return E"
   ]
  },
  {
   "cell_type": "code",
   "execution_count": 7,
   "metadata": {},
   "outputs": [
    {
     "name": "stdout",
     "output_type": "stream",
     "text": [
      "1Q11\n",
      "111Q\n",
      "Q111\n",
      "11Q1\n",
      "\n",
      "11Q1\n",
      "Q111\n",
      "111Q\n",
      "1Q11\n",
      "\n",
      "Found 2 solutions!\n"
     ]
    }
   ],
   "source": [
    "def print_board(board):\n",
    "    i=0\n",
    "    for row in board:\n",
    "        i+=1\n",
    "        for field in row:\n",
    "            print('Q'.format(i), end='') if field=='q' else print('1', end='')\n",
    "        print()\n",
    "    print()\n",
    "def can_place_queen(board, row, col):\n",
    "    \n",
    "    for field in board[row]:\n",
    "        if field=='q': return False\n",
    "    \n",
    "    for i in range(len(board[0])):\n",
    "        if board[i][col]=='q': return False\n",
    "    i, j = row, col\n",
    "    l = len(board)\n",
    "    \n",
    "    while i < l and j < l:\n",
    "        if board[i][j]=='q': return False\n",
    "        i, j = i + 1, j + 1\n",
    "    i, j = row, col\n",
    "   \n",
    "    while i < l and j >= 0:\n",
    "        if board[i][j]=='q': return False\n",
    "        i, j = i + 1, j - 1\n",
    "    i, j = row, col\n",
    "    \n",
    "    while i >= 0 and j < l:\n",
    "        if board[i][j]=='q': return False\n",
    "        i, j = i - 1, j + 1\n",
    "    i, j = row, col\n",
    "   \n",
    "    while i >= 0 and j >= 0:\n",
    "        if board[i][j]=='q': return False\n",
    "        i, j = i - 1, j - 1\n",
    "    return True\n",
    "\n",
    "def place_queens(board, row=0):\n",
    "    global nSolutions\n",
    "    if row >= len(board):\n",
    "        print_board(board)\n",
    "        nSolutions += 1\n",
    "        return\n",
    "    for col, field in enumerate(board):\n",
    "        \n",
    "        if board[row][col]==0:\n",
    "            \n",
    "            \n",
    "            if can_place_queen(board, row, col):\n",
    "                \n",
    "                place_queen(board,'q',row,col)\n",
    "                place_queens(board, row + 1)\n",
    "                \n",
    "                place_queen(board,0,row,col,0)\n",
    "                \n",
    "\n",
    "\n",
    "nSolutions = 0\n",
    "n=4\n",
    "board = [[0] * n for i in range(n)]\n",
    "place_queens(board)\n",
    "print(\"Found %s solutions!\" % nSolutions)"
   ]
  },
  {
   "cell_type": "code",
   "execution_count": null,
   "metadata": {},
   "outputs": [],
   "source": []
  }
 ],
 "metadata": {
  "kernelspec": {
   "display_name": "Python 3",
   "language": "python",
   "name": "python3"
  },
  "language_info": {
   "codemirror_mode": {
    "name": "ipython",
    "version": 3
   },
   "file_extension": ".py",
   "mimetype": "text/x-python",
   "name": "python",
   "nbconvert_exporter": "python",
   "pygments_lexer": "ipython3",
   "version": "3.8.3"
  }
 },
 "nbformat": 4,
 "nbformat_minor": 4
}
